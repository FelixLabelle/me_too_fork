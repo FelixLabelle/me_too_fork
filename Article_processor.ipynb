{
 "cells": [
  {
   "cell_type": "code",
   "execution_count": 16,
   "metadata": {
    "scrolled": true
   },
   "outputs": [
    {
     "name": "stdout",
     "output_type": "stream",
     "text": [
      "['articles_afp.com.json', 'articles_aljazeera.com.json', 'articles_cnn.com.json', 'articles_entornointeligente.com.json', 'articles_foxnews.com.json', 'articles_france24.com.json', 'articles_globaltimes.cn.json', 'articles_hongkongfp.com.json', 'articles_ifpnews.com.json', 'articles_iran-daily.com.json', 'articles_laht.com.json', 'articles_meduza.io.json', 'articles_nytimes.com.json', 'articles_rt.com.json', 'articles_scmp.com.json', 'articles_sputniknews.com.json', 'articles_tehrantimes.com.json', 'articles_themoscowtimes.com.json', 'articles_voanews.com.json']\n"
     ]
    }
   ],
   "source": [
    "import os\n",
    "import json\n",
    "\n",
    "root_dir = os.getcwd()\n",
    "cleaned_data_dir = os.path.join(root_dir, 'data_collection_clean')\n",
    "write_dir = os.path.join(root_dir, 'our_articles')\n",
    "print(os.listdir(cleaned_data_dir))\n",
    "\n",
    "def createFileName(article, source):\n",
    "    ''' Extracts and combines info to create useful filenames'''\n",
    "    uri = article['uri']\n",
    "    protest = article['protest']\n",
    "    return \"{}_{}_{}.txt\".format(protest, source, uri).replace(\" \", \"-\")\n",
    "\n",
    "for file_name in os.listdir(cleaned_data_dir):\n",
    "    file_path = os.path.join(cleaned_data_dir,file_name)\n",
    "    if not(os.path.isfile(file_path) and file.endswith('.json')):\n",
    "        continue\n",
    "        \n",
    "    source = file_name.split('_')[1].split('.')[0]\n",
    "    articles = []\n",
    "    with open(file_path) as json_fh:\n",
    "        articles = json.load(json_fh)\n",
    "    for article in articles:\n",
    "        if article['protest'] is None:\n",
    "            continue\n",
    "        write_path = os.path.join(write_dir, createFileName(article, source))\n",
    "        with open(write_path, 'w+', encoding='utf-8') as article_fh:\n",
    "            article_fh.write(article['body'])"
   ]
  },
  {
   "cell_type": "code",
   "execution_count": null,
   "metadata": {},
   "outputs": [],
   "source": []
  }
 ],
 "metadata": {
  "kernelspec": {
   "display_name": "Python 3",
   "language": "python",
   "name": "python3"
  },
  "language_info": {
   "codemirror_mode": {
    "name": "ipython",
    "version": 3
   },
   "file_extension": ".py",
   "mimetype": "text/x-python",
   "name": "python",
   "nbconvert_exporter": "python",
   "pygments_lexer": "ipython3",
   "version": "3.7.3"
  }
 },
 "nbformat": 4,
 "nbformat_minor": 2
}
